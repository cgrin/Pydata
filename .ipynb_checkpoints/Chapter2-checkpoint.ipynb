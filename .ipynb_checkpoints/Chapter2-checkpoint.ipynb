{
 "metadata": {
  "name": "",
  "signature": "sha256:c9a6b68951abcdfcd76b25b55d51e35239d34baf123df26e60561e54986f3a45"
 },
 "nbformat": 3,
 "nbformat_minor": 0,
 "worksheets": []
}